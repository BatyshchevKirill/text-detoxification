{
  "cells": [
    {
      "cell_type": "markdown",
      "source": [
        "# Prepare to run in kaggle"
      ],
      "metadata": {
        "id": "cNPvdELV2yTd"
      },
      "id": "cNPvdELV2yTd"
    },
    {
      "cell_type": "code",
      "execution_count": null,
      "id": "f7058bbc",
      "metadata": {
        "execution": {
          "iopub.execute_input": "2023-11-07T22:10:13.608540Z",
          "iopub.status.busy": "2023-11-07T22:10:13.607890Z",
          "iopub.status.idle": "2023-11-07T22:10:41.433049Z",
          "shell.execute_reply": "2023-11-07T22:10:41.431866Z"
        },
        "papermill": {
          "duration": 27.833318,
          "end_time": "2023-11-07T22:10:41.435637",
          "exception": false,
          "start_time": "2023-11-07T22:10:13.602319",
          "status": "completed"
        },
        "tags": [],
        "id": "f7058bbc"
      },
      "outputs": [],
      "source": [
        "!git clone https://BatyshchevKirill@github.com/BatyshchevKirill/text-detoxification.git\n",
        "# !pip install -r /kaggle/working/text-detoxification/requirements.txt\n",
        "!pip install contractions  # other packages from requirements are already present in the system of kaggle"
      ]
    },
    {
      "cell_type": "code",
      "execution_count": 1,
      "id": "dcbd470e",
      "metadata": {
        "execution": {
          "iopub.execute_input": "2023-11-07T22:10:41.449673Z",
          "iopub.status.busy": "2023-11-07T22:10:41.449350Z",
          "iopub.status.idle": "2023-11-07T22:10:41.454396Z",
          "shell.execute_reply": "2023-11-07T22:10:41.453553Z"
        },
        "papermill": {
          "duration": 0.01418,
          "end_time": "2023-11-07T22:10:41.456300",
          "exception": false,
          "start_time": "2023-11-07T22:10:41.442120",
          "status": "completed"
        },
        "tags": [],
        "id": "dcbd470e"
      },
      "outputs": [],
      "source": [
        "import sys\n",
        "import os\n",
        "\n",
        "# Define your own path to the project\n",
        "BASE_PATH = \"/kaggle/working/text-detoxification/\"\n",
        "os.chdir(BASE_PATH)\n",
        "sys.path.append(BASE_PATH)"
      ]
    },
    {
      "cell_type": "markdown",
      "source": [
        "# Prepare the data"
      ],
      "metadata": {
        "id": "dioQS1nw5-UU"
      },
      "id": "dioQS1nw5-UU"
    },
    {
      "cell_type": "code",
      "execution_count": 3,
      "id": "8b934383",
      "metadata": {
        "execution": {
          "iopub.execute_input": "2023-11-07T22:10:41.469333Z",
          "iopub.status.busy": "2023-11-07T22:10:41.469057Z",
          "iopub.status.idle": "2023-11-07T22:10:48.242059Z",
          "shell.execute_reply": "2023-11-07T22:10:48.240914Z"
        },
        "papermill": {
          "duration": 6.78181,
          "end_time": "2023-11-07T22:10:48.244118",
          "exception": false,
          "start_time": "2023-11-07T22:10:41.462308",
          "status": "completed"
        },
        "tags": [],
        "colab": {
          "base_uri": "https://localhost:8080/"
        },
        "id": "8b934383",
        "outputId": "504b2781-38b3-4da6-b154-3fba338fecf6"
      },
      "outputs": [
        {
          "output_type": "stream",
          "name": "stderr",
          "text": [
            "[nltk_data] Downloading package punkt to /root/nltk_data...\n",
            "[nltk_data]   Unzipping tokenizers/punkt.zip.\n"
          ]
        }
      ],
      "source": [
        "from src.data.make_dataset import ToxicDataset, TransformerLoaderCreator"
      ]
    },
    {
      "cell_type": "code",
      "execution_count": null,
      "id": "035221d3",
      "metadata": {
        "execution": {
          "iopub.execute_input": "2023-11-07T22:10:48.257923Z",
          "iopub.status.busy": "2023-11-07T22:10:48.257423Z",
          "iopub.status.idle": "2023-11-07T22:12:47.473559Z",
          "shell.execute_reply": "2023-11-07T22:12:47.472515Z"
        },
        "papermill": {
          "duration": 119.225757,
          "end_time": "2023-11-07T22:12:47.476119",
          "exception": false,
          "start_time": "2023-11-07T22:10:48.250362",
          "status": "completed"
        },
        "tags": [],
        "id": "035221d3",
        "outputId": "6d440ff5-c53e-4bf8-8250-6dce3c049022"
      },
      "outputs": [
        {
          "name": "stderr",
          "output_type": "stream",
          "text": [
            "100%|██████████| 338647/338647 [01:56<00:00, 2916.76it/s]\n"
          ]
        }
      ],
      "source": [
        "dataset = ToxicDataset('data/interim/preprocessed_data.csv', max_vocab_size=25000,\n",
        "                      vocab_path='data/interim/vocab.pth', load_pretrained=False)"
      ]
    },
    {
      "cell_type": "code",
      "execution_count": null,
      "id": "b8bd5b43",
      "metadata": {
        "execution": {
          "iopub.execute_input": "2023-11-07T22:12:47.722659Z",
          "iopub.status.busy": "2023-11-07T22:12:47.722280Z",
          "iopub.status.idle": "2023-11-07T22:12:47.774815Z",
          "shell.execute_reply": "2023-11-07T22:12:47.774024Z"
        },
        "papermill": {
          "duration": 0.210198,
          "end_time": "2023-11-07T22:12:47.777164",
          "exception": false,
          "start_time": "2023-11-07T22:12:47.566966",
          "status": "completed"
        },
        "tags": [],
        "id": "b8bd5b43"
      },
      "outputs": [],
      "source": [
        "trainloader, valloader =  TransformerLoaderCreator(dataset, batch_size=64, max_len=128, random_state=33)()"
      ]
    },
    {
      "cell_type": "code",
      "execution_count": null,
      "id": "5ac57910",
      "metadata": {
        "execution": {
          "iopub.execute_input": "2023-11-07T22:12:47.961242Z",
          "iopub.status.busy": "2023-11-07T22:12:47.960880Z",
          "iopub.status.idle": "2023-11-07T22:12:48.017703Z",
          "shell.execute_reply": "2023-11-07T22:12:48.016682Z"
        },
        "papermill": {
          "duration": 0.150788,
          "end_time": "2023-11-07T22:12:48.019818",
          "exception": false,
          "start_time": "2023-11-07T22:12:47.869030",
          "status": "completed"
        },
        "tags": [],
        "id": "5ac57910",
        "outputId": "6d7134aa-7ec6-452f-bac0-7df3377d4f8f"
      },
      "outputs": [
        {
          "name": "stdout",
          "output_type": "stream",
          "text": [
            "torch.Size([128, 64])\n"
          ]
        }
      ],
      "source": [
        "for i in trainloader:\n",
        "    print(i[0].shape)\n",
        "    break"
      ]
    },
    {
      "cell_type": "markdown",
      "source": [
        "# Prepare the model configurations"
      ],
      "metadata": {
        "id": "XHo9UMxt6DTm"
      },
      "id": "XHo9UMxt6DTm"
    },
    {
      "cell_type": "code",
      "execution_count": null,
      "id": "a8465ce8",
      "metadata": {
        "execution": {
          "iopub.execute_input": "2023-11-07T22:12:48.203367Z",
          "iopub.status.busy": "2023-11-07T22:12:48.202983Z",
          "iopub.status.idle": "2023-11-07T22:12:56.464679Z",
          "shell.execute_reply": "2023-11-07T22:12:56.463794Z"
        },
        "papermill": {
          "duration": 8.356423,
          "end_time": "2023-11-07T22:12:56.466996",
          "exception": false,
          "start_time": "2023-11-07T22:12:48.110573",
          "status": "completed"
        },
        "tags": [],
        "id": "a8465ce8"
      },
      "outputs": [],
      "source": [
        "from torch.utils.tensorboard import SummaryWriter\n",
        "from tqdm import tqdm\n",
        "import torch\n",
        "import os\n",
        "\n",
        "device = torch.device(\"cuda\" if torch.cuda.is_available() else \"cpu\")\n",
        "save_path = 'models/transformer_checkpoints/'\n",
        "os.makedirs(save_path, exist_ok=True)\n",
        "epochs = 25\n",
        "lr = 3e-4\n",
        "batch_size = 64\n",
        "vocab_size = len(dataset.vocab)\n",
        "emb_dim = 512\n",
        "heads = 8\n",
        "enc_layers = 3\n",
        "dec_layers = 3\n",
        "dropout = 0.1\n",
        "max_len = 128\n",
        "hidden_dim = 4\n",
        "\n",
        "writer = SummaryWriter(\"runs/loss_plot\")\n",
        "step = 0"
      ]
    },
    {
      "cell_type": "markdown",
      "source": [
        "Create the model"
      ],
      "metadata": {
        "id": "MqDHtlHn6Iyw"
      },
      "id": "MqDHtlHn6Iyw"
    },
    {
      "cell_type": "code",
      "execution_count": null,
      "id": "2b7a13f5",
      "metadata": {
        "execution": {
          "iopub.execute_input": "2023-11-07T22:12:56.651475Z",
          "iopub.status.busy": "2023-11-07T22:12:56.650746Z",
          "iopub.status.idle": "2023-11-07T22:13:02.456751Z",
          "shell.execute_reply": "2023-11-07T22:13:02.455917Z"
        },
        "papermill": {
          "duration": 5.900433,
          "end_time": "2023-11-07T22:13:02.459137",
          "exception": false,
          "start_time": "2023-11-07T22:12:56.558704",
          "status": "completed"
        },
        "tags": [],
        "id": "2b7a13f5"
      },
      "outputs": [],
      "source": [
        "from src.models.transformer import Transformer\n",
        "\n",
        "model = Transformer( emb_dim, vocab_size, heads, enc_layers, dec_layers, hidden_dim, dropout, max_len, device).to(device)"
      ]
    },
    {
      "cell_type": "markdown",
      "source": [
        "# Train the model"
      ],
      "metadata": {
        "id": "VbbiUjXj6PXD"
      },
      "id": "VbbiUjXj6PXD"
    },
    {
      "cell_type": "code",
      "execution_count": null,
      "id": "4bfb0cc4",
      "metadata": {
        "execution": {
          "iopub.execute_input": "2023-11-07T22:13:02.646466Z",
          "iopub.status.busy": "2023-11-07T22:13:02.646101Z",
          "iopub.status.idle": "2023-11-08T05:43:54.790261Z",
          "shell.execute_reply": "2023-11-08T05:43:54.789222Z"
        },
        "papermill": {
          "duration": 27052.240501,
          "end_time": "2023-11-08T05:43:54.792476",
          "exception": false,
          "start_time": "2023-11-07T22:13:02.551975",
          "status": "completed"
        },
        "tags": [],
        "id": "4bfb0cc4",
        "outputId": "c8faed8e-bd93-4488-ab51-f430570205c6"
      },
      "outputs": [
        {
          "name": "stdout",
          "output_type": "stream",
          "text": [
            "Epoch 1/25\n"
          ]
        },
        {
          "name": "stderr",
          "output_type": "stream",
          "text": [
            "100%|██████████| 4234/4234 [16:42<00:00,  4.22it/s, Loss: 3.3595432810587424]\n",
            "100%|██████████| 1059/1059 [01:24<00:00, 12.49it/s]\n"
          ]
        },
        {
          "name": "stdout",
          "output_type": "stream",
          "text": [
            " Val_loss: 2.694975861746596\n",
            "Epoch 2/25\n"
          ]
        },
        {
          "name": "stderr",
          "output_type": "stream",
          "text": [
            "100%|██████████| 4234/4234 [16:42<00:00,  4.22it/s, Loss: 2.5681805340929533]\n",
            "100%|██████████| 1059/1059 [01:24<00:00, 12.48it/s]\n"
          ]
        },
        {
          "name": "stdout",
          "output_type": "stream",
          "text": [
            " Val_loss: 2.446139826540456\n",
            "Epoch 3/25\n"
          ]
        },
        {
          "name": "stderr",
          "output_type": "stream",
          "text": [
            "100%|██████████| 4234/4234 [16:36<00:00,  4.25it/s, Loss: 2.3142189968291125]\n",
            "100%|██████████| 1059/1059 [01:24<00:00, 12.49it/s]\n"
          ]
        },
        {
          "name": "stdout",
          "output_type": "stream",
          "text": [
            " Val_loss: 2.337929362053011\n",
            "Epoch 4/25\n"
          ]
        },
        {
          "name": "stderr",
          "output_type": "stream",
          "text": [
            "100%|██████████| 4234/4234 [16:35<00:00,  4.25it/s, Loss: 2.1578719997439793]\n",
            "100%|██████████| 1059/1059 [01:24<00:00, 12.51it/s]\n"
          ]
        },
        {
          "name": "stdout",
          "output_type": "stream",
          "text": [
            " Val_loss: 2.268185344701448\n",
            "Epoch 5/25\n"
          ]
        },
        {
          "name": "stderr",
          "output_type": "stream",
          "text": [
            "100%|██████████| 4234/4234 [16:41<00:00,  4.23it/s, Loss: 2.044512914918648]\n",
            "100%|██████████| 1059/1059 [01:24<00:00, 12.52it/s]\n"
          ]
        },
        {
          "name": "stdout",
          "output_type": "stream",
          "text": [
            " Val_loss: 2.2306776932661436\n",
            "Epoch 6/25\n"
          ]
        },
        {
          "name": "stderr",
          "output_type": "stream",
          "text": [
            "100%|██████████| 4234/4234 [16:35<00:00,  4.25it/s, Loss: 1.9531330286358457]\n",
            "100%|██████████| 1059/1059 [01:24<00:00, 12.56it/s]\n"
          ]
        },
        {
          "name": "stdout",
          "output_type": "stream",
          "text": [
            " Val_loss: 2.1940195270030425\n",
            "Epoch 7/25\n"
          ]
        },
        {
          "name": "stderr",
          "output_type": "stream",
          "text": [
            "100%|██████████| 4234/4234 [16:28<00:00,  4.28it/s, Loss: 1.8776003061514392]\n",
            "100%|██████████| 1059/1059 [01:24<00:00, 12.57it/s]\n"
          ]
        },
        {
          "name": "stdout",
          "output_type": "stream",
          "text": [
            " Val_loss: 2.163613187580091\n",
            "Epoch 8/25\n"
          ]
        },
        {
          "name": "stderr",
          "output_type": "stream",
          "text": [
            "100%|██████████| 4234/4234 [16:34<00:00,  4.26it/s, Loss: 1.8105819316815812]\n",
            "100%|██████████| 1059/1059 [01:24<00:00, 12.57it/s]\n"
          ]
        },
        {
          "name": "stdout",
          "output_type": "stream",
          "text": [
            " Val_loss: 2.1572248806246503\n",
            "Epoch 9/25\n"
          ]
        },
        {
          "name": "stderr",
          "output_type": "stream",
          "text": [
            "100%|██████████| 4234/4234 [16:32<00:00,  4.26it/s, Loss: 1.7515266676471657]\n",
            "100%|██████████| 1059/1059 [01:24<00:00, 12.52it/s]\n"
          ]
        },
        {
          "name": "stdout",
          "output_type": "stream",
          "text": [
            " Val_loss: 2.1484621288193297\n",
            "Epoch 10/25\n"
          ]
        },
        {
          "name": "stderr",
          "output_type": "stream",
          "text": [
            "100%|██████████| 4234/4234 [16:30<00:00,  4.27it/s, Loss: 1.70100352175122]\n",
            "100%|██████████| 1059/1059 [01:24<00:00, 12.50it/s]\n"
          ]
        },
        {
          "name": "stdout",
          "output_type": "stream",
          "text": [
            " Val_loss: 2.141904162279945\n",
            "Epoch 11/25\n"
          ]
        },
        {
          "name": "stderr",
          "output_type": "stream",
          "text": [
            "100%|██████████| 4234/4234 [16:40<00:00,  4.23it/s, Loss: 1.656074137804809]\n",
            "100%|██████████| 1059/1059 [01:24<00:00, 12.49it/s]\n"
          ]
        },
        {
          "name": "stdout",
          "output_type": "stream",
          "text": [
            " Val_loss: 2.1422247554582734\n",
            "Epoch 12/25\n"
          ]
        },
        {
          "name": "stderr",
          "output_type": "stream",
          "text": [
            "100%|██████████| 4234/4234 [16:38<00:00,  4.24it/s, Loss: 1.6148029612548858]\n",
            "100%|██████████| 1059/1059 [01:24<00:00, 12.51it/s]\n"
          ]
        },
        {
          "name": "stdout",
          "output_type": "stream",
          "text": [
            " Val_loss: 2.1400947280375884\n",
            "Epoch 13/25\n"
          ]
        },
        {
          "name": "stderr",
          "output_type": "stream",
          "text": [
            "100%|██████████| 4234/4234 [16:38<00:00,  4.24it/s, Loss: 1.5778566498659554]\n",
            "100%|██████████| 1059/1059 [01:24<00:00, 12.49it/s]\n"
          ]
        },
        {
          "name": "stdout",
          "output_type": "stream",
          "text": [
            " Val_loss: 2.1384668602371577\n",
            "Epoch 14/25\n"
          ]
        },
        {
          "name": "stderr",
          "output_type": "stream",
          "text": [
            "100%|██████████| 4234/4234 [16:39<00:00,  4.23it/s, Loss: 1.543889142175187]\n",
            "100%|██████████| 1059/1059 [01:24<00:00, 12.51it/s]\n"
          ]
        },
        {
          "name": "stdout",
          "output_type": "stream",
          "text": [
            " Val_loss: 2.1411753564200615\n",
            "Epoch 15/25\n"
          ]
        },
        {
          "name": "stderr",
          "output_type": "stream",
          "text": [
            "100%|██████████| 4234/4234 [16:39<00:00,  4.23it/s, Loss: 1.5130959232854686]\n",
            "100%|██████████| 1059/1059 [01:24<00:00, 12.51it/s]\n"
          ]
        },
        {
          "name": "stdout",
          "output_type": "stream",
          "text": [
            " Val_loss: 2.139150344166022\n",
            "Epoch 16/25\n"
          ]
        },
        {
          "name": "stderr",
          "output_type": "stream",
          "text": [
            "100%|██████████| 4234/4234 [16:36<00:00,  4.25it/s, Loss: 1.484305184153267]\n",
            "100%|██████████| 1059/1059 [01:24<00:00, 12.56it/s]\n"
          ]
        },
        {
          "name": "stdout",
          "output_type": "stream",
          "text": [
            " Val_loss: 2.1445019411748034\n",
            "Epoch 17/25\n"
          ]
        },
        {
          "name": "stderr",
          "output_type": "stream",
          "text": [
            "100%|██████████| 4234/4234 [16:37<00:00,  4.25it/s, Loss: 1.4578770998800257]\n",
            "100%|██████████| 1059/1059 [01:24<00:00, 12.51it/s]\n"
          ]
        },
        {
          "name": "stdout",
          "output_type": "stream",
          "text": [
            " Val_loss: 2.1537813109198867\n",
            "Epoch 18/25\n"
          ]
        },
        {
          "name": "stderr",
          "output_type": "stream",
          "text": [
            "100%|██████████| 4234/4234 [16:39<00:00,  4.24it/s, Loss: 1.4329136326226302]\n",
            "100%|██████████| 1059/1059 [01:24<00:00, 12.51it/s]\n"
          ]
        },
        {
          "name": "stdout",
          "output_type": "stream",
          "text": [
            " Val_loss: 2.158270135817379\n",
            "Epoch 19/25\n"
          ]
        },
        {
          "name": "stderr",
          "output_type": "stream",
          "text": [
            "100%|██████████| 4234/4234 [16:38<00:00,  4.24it/s, Loss: 1.4090778487551927]\n",
            "100%|██████████| 1059/1059 [01:24<00:00, 12.50it/s]\n"
          ]
        },
        {
          "name": "stdout",
          "output_type": "stream",
          "text": [
            " Val_loss: 2.165378940566966\n",
            "Epoch 20/25\n"
          ]
        },
        {
          "name": "stderr",
          "output_type": "stream",
          "text": [
            "100%|██████████| 4234/4234 [16:39<00:00,  4.24it/s, Loss: 1.3877940501139645]\n",
            "100%|██████████| 1059/1059 [01:24<00:00, 12.50it/s]\n"
          ]
        },
        {
          "name": "stdout",
          "output_type": "stream",
          "text": [
            " Val_loss: 2.1647329384476874\n",
            "Epoch 21/25\n"
          ]
        },
        {
          "name": "stderr",
          "output_type": "stream",
          "text": [
            "100%|██████████| 4234/4234 [16:35<00:00,  4.25it/s, Loss: 1.367960272952527]\n",
            "100%|██████████| 1059/1059 [01:24<00:00, 12.50it/s]\n"
          ]
        },
        {
          "name": "stdout",
          "output_type": "stream",
          "text": [
            " Val_loss: 2.1607240207697336\n",
            "Epoch 22/25\n"
          ]
        },
        {
          "name": "stderr",
          "output_type": "stream",
          "text": [
            "100%|██████████| 4234/4234 [16:35<00:00,  4.25it/s, Loss: 1.3482178818042063]\n",
            "100%|██████████| 1059/1059 [01:24<00:00, 12.56it/s]\n"
          ]
        },
        {
          "name": "stdout",
          "output_type": "stream",
          "text": [
            " Val_loss: 2.170756859076935\n",
            "Epoch 23/25\n"
          ]
        },
        {
          "name": "stderr",
          "output_type": "stream",
          "text": [
            "100%|██████████| 4234/4234 [16:36<00:00,  4.25it/s, Loss: 1.330025687102839]\n",
            "100%|██████████| 1059/1059 [01:24<00:00, 12.57it/s]\n"
          ]
        },
        {
          "name": "stdout",
          "output_type": "stream",
          "text": [
            " Val_loss: 2.180449196254453\n",
            "Epoch 24/25\n"
          ]
        },
        {
          "name": "stderr",
          "output_type": "stream",
          "text": [
            "100%|██████████| 4234/4234 [16:37<00:00,  4.25it/s, Loss: 1.313207279202732]\n",
            "100%|██████████| 1059/1059 [01:24<00:00, 12.51it/s]\n"
          ]
        },
        {
          "name": "stdout",
          "output_type": "stream",
          "text": [
            " Val_loss: 2.1775310048525687\n",
            "Epoch 25/25\n"
          ]
        },
        {
          "name": "stderr",
          "output_type": "stream",
          "text": [
            "100%|██████████| 4234/4234 [16:37<00:00,  4.24it/s, Loss: 1.295121232574708]\n",
            "100%|██████████| 1059/1059 [01:24<00:00, 12.57it/s]"
          ]
        },
        {
          "name": "stdout",
          "output_type": "stream",
          "text": [
            " Val_loss: 2.1960019161388264\n"
          ]
        },
        {
          "name": "stderr",
          "output_type": "stream",
          "text": [
            "\n"
          ]
        }
      ],
      "source": [
        "from src.models.train_model import train_transformer\n",
        "\n",
        "train_transformer(model, save_path, lr, epochs, trainloader, valloader)"
      ]
    },
    {
      "cell_type": "markdown",
      "source": [
        "# Plot the loss graphs"
      ],
      "metadata": {
        "id": "4HXZyWzV6SQJ"
      },
      "id": "4HXZyWzV6SQJ"
    },
    {
      "cell_type": "code",
      "execution_count": 2,
      "id": "1de14cf9",
      "metadata": {
        "execution": {
          "iopub.execute_input": "2023-11-08T05:45:06.465474Z",
          "iopub.status.busy": "2023-11-08T05:45:06.465044Z",
          "iopub.status.idle": "2023-11-08T05:45:06.805301Z",
          "shell.execute_reply": "2023-11-08T05:45:06.804555Z"
        },
        "papermill": {
          "duration": 17.968622,
          "end_time": "2023-11-08T05:45:06.807382",
          "exception": false,
          "start_time": "2023-11-08T05:44:48.838760",
          "status": "completed"
        },
        "tags": [],
        "id": "1de14cf9"
      },
      "outputs": [],
      "source": [
        "from src.visualization.visualize import plot_loss"
      ]
    },
    {
      "cell_type": "code",
      "execution_count": 3,
      "id": "fb9f30e0",
      "metadata": {
        "execution": {
          "iopub.execute_input": "2023-11-08T05:45:42.043109Z",
          "iopub.status.busy": "2023-11-08T05:45:42.042399Z",
          "iopub.status.idle": "2023-11-08T05:45:42.046434Z",
          "shell.execute_reply": "2023-11-08T05:45:42.045568Z"
        },
        "papermill": {
          "duration": 17.350371,
          "end_time": "2023-11-08T05:45:42.048417",
          "exception": false,
          "start_time": "2023-11-08T05:45:24.698046",
          "status": "completed"
        },
        "tags": [],
        "colab": {
          "base_uri": "https://localhost:8080/",
          "height": 718
        },
        "id": "fb9f30e0",
        "outputId": "dd029464-709b-48f2-ee32-56e5bbdec2f3"
      },
      "outputs": [
        {
          "output_type": "display_data",
          "data": {
            "text/plain": [
              "<Figure size 1000x800 with 2 Axes>"
            ],
            "image/png": "[encoded data removed]"
          },
          "metadata": {}
        }
      ],
      "source": [
        "import os\n",
        "\n",
        "files = os.listdir(\"runs/loss_plot\")\n",
        "plot_loss(f\"runs/loss_plot/{files[1]}\", step=30)"
      ]
    },
    {
      "cell_type": "markdown",
      "source": [
        "The model overfits after after approximately 10 epochs, it seems. However, the checkpoint saved includes the model that showed the best results on the validation set"
      ],
      "metadata": {
        "id": "SYirfJBc4E6G"
      },
      "id": "SYirfJBc4E6G"
    }
  ],
  "metadata": {
    "kernelspec": {
      "display_name": "Python 3",
      "language": "python",
      "name": "python3"
    },
    "language_info": {
      "codemirror_mode": {
        "name": "ipython",
        "version": 3
      },
      "file_extension": ".py",
      "mimetype": "text/x-python",
      "name": "python",
      "nbconvert_exporter": "python",
      "pygments_lexer": "ipython3",
      "version": "3.10.12"
    },
    "papermill": {
      "default_parameters": {},
      "duration": 27352.834693,
      "end_time": "2023-11-08T05:46:02.965541",
      "environment_variables": {},
      "exception": null,
      "input_path": "__notebook__.ipynb",
      "output_path": "__notebook__.ipynb",
      "parameters": {},
      "start_time": "2023-11-07T22:10:10.130848",
      "version": "2.4.0"
    },
    "colab": {
      "provenance": []
    }
  },
  "nbformat": 4,
  "nbformat_minor": 5
}